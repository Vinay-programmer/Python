{
 "cells": [
  {
   "cell_type": "markdown",
   "metadata": {},
   "source": [
    "what are loops?\n",
    "-loops considered as onr of the very basic and poerfull concept of any progreamming langauges\n",
    "-A loop is computer program is instruction that repeats untill a specified condition is reached.\n",
    "-In loop structure, the loop asks a question, if the answer is require action it is executed.\n",
    "-The same question is asked again anf again untill no further action is requierd.\n",
    "-Each time the question is asked is called an interation."
   ]
  },
  {
   "cell_type": "markdown",
   "metadata": {},
   "source": [
    "Two types of loops in python:\n",
    "    For loop: A for loop is a loop that runs for a preset number of times\n",
    "        Its of two types:\n",
    "            1. For index in range \n",
    "            2. For value in sequence.\n",
    "        While loop: that is repeated as long as an expression (condtion) is true.\n",
    "        "
   ]
  },
  {
   "cell_type": "markdown",
   "metadata": {},
   "source": [
    "For value in sequence: it check the presence of value or item in you sequence and the whatever instruction you want to give in loop you can give inside the loop it will execute on the same each item.\n",
    "    "
   ]
  },
  {
   "cell_type": "code",
   "execution_count": 4,
   "metadata": {},
   "outputs": [
    {
     "name": "stdout",
     "output_type": "stream",
     "text": [
      "1\n",
      "3\n",
      "6\n",
      "10\n",
      "15\n",
      "21\n"
     ]
    }
   ],
   "source": [
    "#Given a list of number. WAP to find the sum of all the number\n",
    "number = [1,2,3,4,5,6]\n",
    "sum1 = 0\n",
    "for val in number:\n",
    "    sum1= sum1+val\n",
    "    print(sum1)"
   ]
  },
  {
   "cell_type": "code",
   "execution_count": null,
   "metadata": {},
   "outputs": [],
   "source": [
    "while loop \n",
    "print the sum of first 10 integer of keyboard"
   ]
  },
  {
   "cell_type": "code",
   "execution_count": null,
   "metadata": {},
   "outputs": [],
   "source": []
  },
  {
   "cell_type": "code",
   "execution_count": null,
   "metadata": {},
   "outputs": [],
   "source": []
  },
  {
   "cell_type": "code",
   "execution_count": null,
   "metadata": {},
   "outputs": [],
   "source": []
  },
  {
   "cell_type": "code",
   "execution_count": null,
   "metadata": {},
   "outputs": [],
   "source": []
  }
 ],
 "metadata": {
  "kernelspec": {
   "display_name": "Python 3",
   "language": "python",
   "name": "python3"
  },
  "language_info": {
   "codemirror_mode": {
    "name": "ipython",
    "version": 3
   },
   "file_extension": ".py",
   "mimetype": "text/x-python",
   "name": "python",
   "nbconvert_exporter": "python",
   "pygments_lexer": "ipython3",
   "version": "3.8.3"
  }
 },
 "nbformat": 4,
 "nbformat_minor": 4
}
