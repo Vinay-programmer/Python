{
 "cells": [
  {
   "cell_type": "code",
   "execution_count": null,
   "metadata": {},
   "outputs": [],
   "source": [
    "#Functions- -----2 types\n",
    "#1st - User defined function----Should always be defined by user only.\n",
    "#2nd in built function -----are pre-defined func-----mean(), min(), sum()"
   ]
  },
  {
   "cell_type": "code",
   "execution_count": 1,
   "metadata": {},
   "outputs": [],
   "source": [
    "num=1\n",
    "a=num+10"
   ]
  },
  {
   "cell_type": "code",
   "execution_count": 2,
   "metadata": {},
   "outputs": [],
   "source": [
    "def fun1(num):\n",
    "    a=num+10\n",
    "    return a"
   ]
  },
  {
   "cell_type": "code",
   "execution_count": 3,
   "metadata": {},
   "outputs": [
    {
     "data": {
      "text/plain": [
       "34"
      ]
     },
     "execution_count": 3,
     "metadata": {},
     "output_type": "execute_result"
    }
   ],
   "source": [
    "fun1(24)"
   ]
  },
  {
   "cell_type": "code",
   "execution_count": 4,
   "metadata": {},
   "outputs": [],
   "source": [
    "def fun2(num1,num2):\n",
    "    if(num1>num2):\n",
    "        print('Num1 is greater than Num2')\n",
    "    else:\n",
    "        print('Num2 is greater than Num1')"
   ]
  },
  {
   "cell_type": "code",
   "execution_count": 5,
   "metadata": {},
   "outputs": [
    {
     "name": "stdout",
     "output_type": "stream",
     "text": [
      "Num2 is greater than Num1\n"
     ]
    }
   ],
   "source": [
    "#call the function in order to work with it\n",
    "\n",
    "fun2(27,38)"
   ]
  },
  {
   "cell_type": "code",
   "execution_count": null,
   "metadata": {},
   "outputs": [],
   "source": [
    "#class"
   ]
  },
  {
   "cell_type": "code",
   "execution_count": 1,
   "metadata": {},
   "outputs": [
    {
     "name": "stdout",
     "output_type": "stream",
     "text": [
      "hello\n"
     ]
    }
   ],
   "source": [
    "class hello:\n",
    "    print('hello')"
   ]
  },
  {
   "cell_type": "code",
   "execution_count": 2,
   "metadata": {},
   "outputs": [
    {
     "name": "stdout",
     "output_type": "stream",
     "text": [
      "this is demo class\n"
     ]
    }
   ],
   "source": [
    "#how to create class named Demo\n",
    "class Demo:\n",
    "    #varianle a,b,c a=10\n",
    "    #method def method_name\n",
    "    #statement (input and output statement eg: print, input)\n",
    "    print(\"this is demo class\")"
   ]
  },
  {
   "cell_type": "code",
   "execution_count": 3,
   "metadata": {},
   "outputs": [
    {
     "ename": "SyntaxError",
     "evalue": "invalid syntax (<ipython-input-3-70fd567a2839>, line 1)",
     "output_type": "error",
     "traceback": [
      "\u001b[1;36m  File \u001b[1;32m\"<ipython-input-3-70fd567a2839>\"\u001b[1;36m, line \u001b[1;32m1\u001b[0m\n\u001b[1;33m    syntex for class:\u001b[0m\n\u001b[1;37m           ^\u001b[0m\n\u001b[1;31mSyntaxError\u001b[0m\u001b[1;31m:\u001b[0m invalid syntax\n"
     ]
    }
   ],
   "source": [
    "syntex for class:\n",
    "    class class_name:"
   ]
  },
  {
   "cell_type": "raw",
   "metadata": {},
   "source": [
    "# variable -----2 types\n",
    "# Global variable\n",
    "# Local Variable"
   ]
  },
  {
   "cell_type": "code",
   "execution_count": 4,
   "metadata": {},
   "outputs": [],
   "source": [
    "def add():\n",
    "    a=10 #local variable\n",
    "    b=20 #local variable\n",
    "    print(a+b)"
   ]
  },
  {
   "cell_type": "code",
   "execution_count": 5,
   "metadata": {},
   "outputs": [
    {
     "name": "stdout",
     "output_type": "stream",
     "text": [
      "30\n"
     ]
    }
   ],
   "source": [
    "add()"
   ]
  },
  {
   "cell_type": "raw",
   "metadata": {},
   "source": [
    "# global variable"
   ]
  },
  {
   "cell_type": "code",
   "execution_count": 6,
   "metadata": {},
   "outputs": [],
   "source": [
    "a=9 #global variable\n",
    "b=8 #global variable\n",
    "def add2():\n",
    "    print(a+b)\n"
   ]
  },
  {
   "cell_type": "code",
   "execution_count": 7,
   "metadata": {},
   "outputs": [
    {
     "name": "stdout",
     "output_type": "stream",
     "text": [
      "17\n"
     ]
    }
   ],
   "source": [
    "add2()"
   ]
  },
  {
   "cell_type": "raw",
   "metadata": {},
   "source": [
    "# Local variable are restricted with in the function, they can accessed by the function where they are declared\n",
    "# Global variables - these variables acess all other methods"
   ]
  },
  {
   "cell_type": "raw",
   "metadata": {},
   "source": [
    "#Local variable are highly protected\n",
    "#Global varibale they can be modified by the other fucntion"
   ]
  },
  {
   "cell_type": "code",
   "execution_count": null,
   "metadata": {},
   "outputs": [],
   "source": [
    "# Constructor"
   ]
  },
  {
   "cell_type": "code",
   "execution_count": null,
   "metadata": {},
   "outputs": [],
   "source": [
    "#python create constructor to us and we can work\n",
    "# Parameterised constructor - it has variable in it.\n",
    "# non- parameterised constructor- it doesnot have any variable"
   ]
  },
  {
   "cell_type": "code",
   "execution_count": 13,
   "metadata": {},
   "outputs": [],
   "source": [
    "class VINAY:\n",
    "    def add(self): # function or method\n",
    "        a=10\n",
    "        b=20\n",
    "        print(a+b)\n",
    "        print(a,b)"
   ]
  },
  {
   "cell_type": "raw",
   "metadata": {},
   "source": [
    "syntex of object:\n",
    "    object name = Class_constructor\n",
    "Rules:\n",
    "    Class_constructor should have same as the class name followed by empty paranthesis"
   ]
  },
  {
   "cell_type": "code",
   "execution_count": 14,
   "metadata": {},
   "outputs": [],
   "source": [
    "obj = VINAY()"
   ]
  }
 ],
 "metadata": {
  "kernelspec": {
   "display_name": "Python 3",
   "language": "python",
   "name": "python3"
  },
  "language_info": {
   "codemirror_mode": {
    "name": "ipython",
    "version": 3
   },
   "file_extension": ".py",
   "mimetype": "text/x-python",
   "name": "python",
   "nbconvert_exporter": "python",
   "pygments_lexer": "ipython3",
   "version": "3.8.3"
  }
 },
 "nbformat": 4,
 "nbformat_minor": 4
}
