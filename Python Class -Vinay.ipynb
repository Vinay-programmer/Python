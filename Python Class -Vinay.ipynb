{
 "cells": [
  {
   "cell_type": "markdown",
   "metadata": {},
   "source": [
    "**program no 1\n",
    "\n",
    "check the number is odd or not \n",
    "\n",
    "1. ask the user to enter the number \n",
    "2. you will devide the number by 2 if remainder is 0 then number is even otheerwise number is odd.\n",
    "3. print the messages "
   ]
  },
  {
   "cell_type": "code",
   "execution_count": 7,
   "metadata": {},
   "outputs": [
    {
     "name": "stdout",
     "output_type": "stream",
     "text": [
      "enter the number5\n",
      "numvber is odd\n"
     ]
    }
   ],
   "source": [
    "num= int(input(\"enter the number\"))\n",
    "if (num%2==0):\n",
    "    print(\"number is even\")\n",
    "else:\n",
    "    print(\"numvber is odd\")"
   ]
  },
  {
   "cell_type": "markdown",
   "metadata": {},
   "source": [
    "task 2 - A Company decided to give the bonus of 5% if the salary is more than 25k and work experience is more than 3 years.\n",
    "ask user for their salary and year of experience and print the bonus net bonus amount and the new salary.\n"
   ]
  },
  {
   "cell_type": "code",
   "execution_count": null,
   "metadata": {},
   "outputs": [],
   "source": [
    "1. ask the user to enter the salary \n",
    "2. ask thr user to enter the experience.\n",
    "3. if salary is > 25k and y.o.e>3 then\n",
    "   5/100* salary\n",
    "    print (\" Congratulation! you got the bonus\")\n",
    "new sal = sal+ bonus\n",
    "else (\"sorry you are not eligible\")"
   ]
  },
  {
   "cell_type": "code",
   "execution_count": 2,
   "metadata": {},
   "outputs": [
    {
     "name": "stdout",
     "output_type": "stream",
     "text": [
      "please enter your salary 25000\n",
      "please enter your experience 3\n",
      "Sorry, you are not eligible\n"
     ]
    }
   ],
   "source": [
    "sal = float(input(\"please enter your salary \"))\n",
    "y_x = float (input (\"please enter your experience \"))\n",
    "if sal>25000 and y_x > 3:\n",
    "    Bonus = (5/100)* sal\n",
    "    print(\"whoa!your bonus amount is\",Bonus)\n",
    "    New_sal = sal + Bonus\n",
    "    print (\"your new salary is-\",New_sal)\n",
    "else:\n",
    "    print(\"Sorry, you are not eligible\")"
   ]
  },
  {
   "cell_type": "markdown",
   "metadata": {},
   "source": []
  },
  {
   "cell_type": "code",
   "execution_count": null,
   "metadata": {},
   "outputs": [],
   "source": []
  },
  {
   "cell_type": "code",
   "execution_count": null,
   "metadata": {},
   "outputs": [],
   "source": []
  },
  {
   "cell_type": "code",
   "execution_count": null,
   "metadata": {},
   "outputs": [],
   "source": []
  },
  {
   "cell_type": "code",
   "execution_count": null,
   "metadata": {},
   "outputs": [],
   "source": []
  },
  {
   "cell_type": "code",
   "execution_count": null,
   "metadata": {},
   "outputs": [],
   "source": []
  },
  {
   "cell_type": "code",
   "execution_count": null,
   "metadata": {},
   "outputs": [],
   "source": []
  }
 ],
 "metadata": {
  "kernelspec": {
   "display_name": "Python 3",
   "language": "python",
   "name": "python3"
  },
  "language_info": {
   "codemirror_mode": {
    "name": "ipython",
    "version": 3
   },
   "file_extension": ".py",
   "mimetype": "text/x-python",
   "name": "python",
   "nbconvert_exporter": "python",
   "pygments_lexer": "ipython3",
   "version": "3.8.3"
  }
 },
 "nbformat": 4,
 "nbformat_minor": 4
}
