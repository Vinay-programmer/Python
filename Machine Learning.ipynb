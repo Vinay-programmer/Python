{
 "cells": [
  {
   "cell_type": "markdown",
   "metadata": {},
   "source": [
    "# Machine Learning"
   ]
  },
  {
   "cell_type": "markdown",
   "metadata": {},
   "source": [
    "What is Machine Learning\n",
    "Machine learning is field of study that gives compputer the capability to learn without being explicitly programmed.\n",
    "\n",
    "Types of Machine learning -\n",
    "1. Supervised Machine learning - Data is labelled/ Target variable is present\n",
    "2. Unsuprvised Macahine Learning - Target variable is not present "
   ]
  },
  {
   "cell_type": "markdown",
   "metadata": {},
   "source": [
    "Chack the presece of target variable -- If Yes -- then go for superviesd machine learning - then check the type of target variable - \n",
    "if target variable is contineous or descrite - then go for Rregression model\n",
    "if the target varaible is categorical - then go for classification model.\n"
   ]
  },
  {
   "cell_type": "markdown",
   "metadata": {},
   "source": [
    "Tips = total_bill,tip, sex, somker, time , size\n",
    " total_bill and tip are contineous variable\n",
    "    sex, somker and time are categorical variable\n",
    "    \n",
    "    \n",
    "Que - If you want to make a ML model to pedict the total_bill of the next customer with given set of features which algorithm or approch you will go for??\n",
    "\n",
    "Answer - You will go for regression model\n",
    "\n",
    "Que- If you want to make a ML model to pedict the gender of the next customer with given set of features which algorithm or approch you will go for??\n",
    "\n",
    "Answer- You will go for the classifiaction model"
   ]
  },
  {
   "cell_type": "markdown",
   "metadata": {},
   "source": [
    "# Linear Regression"
   ]
  },
  {
   "cell_type": "markdown",
   "metadata": {},
   "source": [
    "Regression Analysis - statistical technique that is very useful in cause and efffect measure.\n",
    "Example- 1. Effect of temperature on humidity\n",
    "2. Effect of height on weight\n",
    "3. No of bill visited in restaurant on total profit"
   ]
  },
  {
   "cell_type": "markdown",
   "metadata": {},
   "source": [
    "X - represent set of features or independent variable\n",
    "y - represent target or response, or label\n",
    "\n",
    "Linear regression - we try to find a mathematical equation which describes how \"y\" is realted to the \"X\"\n"
   ]
  },
  {
   "cell_type": "code",
   "execution_count": null,
   "metadata": {},
   "outputs": [],
   "source": []
  },
  {
   "cell_type": "code",
   "execution_count": null,
   "metadata": {},
   "outputs": [],
   "source": []
  },
  {
   "cell_type": "code",
   "execution_count": null,
   "metadata": {},
   "outputs": [],
   "source": []
  },
  {
   "cell_type": "code",
   "execution_count": null,
   "metadata": {},
   "outputs": [],
   "source": []
  },
  {
   "cell_type": "code",
   "execution_count": null,
   "metadata": {},
   "outputs": [],
   "source": []
  },
  {
   "cell_type": "code",
   "execution_count": null,
   "metadata": {},
   "outputs": [],
   "source": []
  },
  {
   "cell_type": "code",
   "execution_count": null,
   "metadata": {},
   "outputs": [],
   "source": []
  },
  {
   "cell_type": "code",
   "execution_count": null,
   "metadata": {},
   "outputs": [],
   "source": []
  },
  {
   "cell_type": "code",
   "execution_count": null,
   "metadata": {},
   "outputs": [],
   "source": []
  },
  {
   "cell_type": "code",
   "execution_count": null,
   "metadata": {},
   "outputs": [],
   "source": []
  },
  {
   "cell_type": "code",
   "execution_count": null,
   "metadata": {},
   "outputs": [],
   "source": []
  },
  {
   "cell_type": "code",
   "execution_count": null,
   "metadata": {},
   "outputs": [],
   "source": []
  },
  {
   "cell_type": "code",
   "execution_count": null,
   "metadata": {},
   "outputs": [],
   "source": []
  }
 ],
 "metadata": {
  "kernelspec": {
   "display_name": "Python 3",
   "language": "python",
   "name": "python3"
  },
  "language_info": {
   "codemirror_mode": {
    "name": "ipython",
    "version": 3
   },
   "file_extension": ".py",
   "mimetype": "text/x-python",
   "name": "python",
   "nbconvert_exporter": "python",
   "pygments_lexer": "ipython3",
   "version": "3.8.3"
  }
 },
 "nbformat": 4,
 "nbformat_minor": 4
}
