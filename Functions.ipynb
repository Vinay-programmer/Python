{
 "cells": [
  {
   "cell_type": "markdown",
   "metadata": {
    "colab_type": "text",
    "id": "view-in-github"
   },
   "source": [
    "<a href=\"https://colab.research.google.com/github/imsakshi/Python/blob/master/Functions.ipynb\" target=\"_parent\"><img src=\"https://colab.research.google.com/assets/colab-badge.svg\" alt=\"Open In Colab\"/></a>"
   ]
  },
  {
   "cell_type": "code",
   "execution_count": 0,
   "metadata": {
    "colab": {},
    "colab_type": "code",
    "id": "LBFRG8b4DyoK"
   },
   "outputs": [],
   "source": [
    "Functions - python block of code, reusability."
   ]
  },
  {
   "cell_type": "markdown",
   "metadata": {
    "colab_type": "text",
    "id": "7yY35pN3F6AG"
   },
   "source": [
    "in functions we use two terma interchangeably.\n",
    "**Parameters and arguments**"
   ]
  },
  {
   "cell_type": "code",
   "execution_count": 0,
   "metadata": {
    "colab": {},
    "colab_type": "code",
    "id": "UsJJ7eUZGDgB"
   },
   "outputs": [],
   "source": [
    "def add(a,b):  #here a and b parameters\n",
    "  c = a  + b\n",
    "  return c"
   ]
  },
  {
   "cell_type": "code",
   "execution_count": 3,
   "metadata": {
    "colab": {
     "base_uri": "https://localhost:8080/",
     "height": 34
    },
    "colab_type": "code",
    "id": "LttAWmUrGTlo",
    "outputId": "c9e08600-c706-4a82-e35f-a8bdea0d6f74"
   },
   "outputs": [
    {
     "data": {
      "text/plain": [
       "5"
      ]
     },
     "execution_count": 3,
     "metadata": {
      "tags": []
     },
     "output_type": "execute_result"
    }
   ],
   "source": [
    "add(2,3) # a = 2 , b = 3 , argument #positional argument."
   ]
  },
  {
   "cell_type": "code",
   "execution_count": 4,
   "metadata": {
    "colab": {
     "base_uri": "https://localhost:8080/",
     "height": 34
    },
    "colab_type": "code",
    "id": "-WF4wH87GiLf",
    "outputId": "d1b50811-918b-4eca-a376-09efd08ab815"
   },
   "outputs": [
    {
     "data": {
      "text/plain": [
       "10"
      ]
     },
     "execution_count": 4,
     "metadata": {
      "tags": []
     },
     "output_type": "execute_result"
    }
   ],
   "source": [
    "add(b = 3, a = 7)"
   ]
  },
  {
   "cell_type": "code",
   "execution_count": 0,
   "metadata": {
    "colab": {},
    "colab_type": "code",
    "id": "FJV-emaAGvxA"
   },
   "outputs": [],
   "source": [
    "#suppose you have 10 numbers. we use a concept of passing variable length argument."
   ]
  },
  {
   "cell_type": "code",
   "execution_count": 0,
   "metadata": {
    "colab": {},
    "colab_type": "code",
    "id": "gaySPPOjHTbQ"
   },
   "outputs": [],
   "source": [
    "def my_sum(*a):\n",
    "  return sum(a)"
   ]
  },
  {
   "cell_type": "code",
   "execution_count": 6,
   "metadata": {
    "colab": {
     "base_uri": "https://localhost:8080/",
     "height": 34
    },
    "colab_type": "code",
    "id": "QgO5NdKLH6wY",
    "outputId": "d57d310d-4987-4316-de41-2b4b9783ad02"
   },
   "outputs": [
    {
     "data": {
      "text/plain": [
       "21"
      ]
     },
     "execution_count": 6,
     "metadata": {
      "tags": []
     },
     "output_type": "execute_result"
    }
   ],
   "source": [
    "my_sum(1,2,3,4,5,6)"
   ]
  },
  {
   "cell_type": "code",
   "execution_count": 0,
   "metadata": {
    "colab": {},
    "colab_type": "code",
    "id": "5cxVrVJ9IMeo"
   },
   "outputs": [],
   "source": [
    "#find the average\n",
    "def mean(*num):\n",
    "  return (sum(num)/num)"
   ]
  },
  {
   "cell_type": "markdown",
   "metadata": {
    "colab_type": "text",
    "id": "hNzyipcjHcOl"
   },
   "source": [
    "Python recieves multiple argument *args and is known as variable length argument."
   ]
  },
  {
   "cell_type": "code",
   "execution_count": 0,
   "metadata": {
    "colab": {},
    "colab_type": "code",
    "id": "wCFTHezRJmsn"
   },
   "outputs": [],
   "source": [
    "def my_func(*kids):\n",
    "  print(\"The youngest child is\", kids[2])"
   ]
  },
  {
   "cell_type": "code",
   "execution_count": 10,
   "metadata": {
    "colab": {
     "base_uri": "https://localhost:8080/",
     "height": 34
    },
    "colab_type": "code",
    "id": "1xS7OOaeJ0iK",
    "outputId": "4745e52b-7c12-44b5-c4c1-a69b67fc4dd3"
   },
   "outputs": [
    {
     "name": "stdout",
     "output_type": "stream",
     "text": [
      "The youngest child is ales\n"
     ]
    }
   ],
   "source": [
    "my_func(\"joy\",\"fairy\",\"ales\")"
   ]
  },
  {
   "cell_type": "code",
   "execution_count": 0,
   "metadata": {
    "colab": {},
    "colab_type": "code",
    "id": "2xETP7V_J75Q"
   },
   "outputs": [],
   "source": [
    "def mul(*a):\n",
    "  m = 1\n",
    "  for i in a:\n",
    "    m = m * i\n",
    "  return(m)\n",
    "\n"
   ]
  },
  {
   "cell_type": "code",
   "execution_count": 16,
   "metadata": {
    "colab": {
     "base_uri": "https://localhost:8080/",
     "height": 34
    },
    "colab_type": "code",
    "id": "0s0H1wjqKvrJ",
    "outputId": "341b56d6-d2a7-4859-b936-c271f71944e0"
   },
   "outputs": [
    {
     "data": {
      "text/plain": [
       "6"
      ]
     },
     "execution_count": 16,
     "metadata": {
      "tags": []
     },
     "output_type": "execute_result"
    }
   ],
   "source": [
    "mul(1,2,3)"
   ]
  },
  {
   "cell_type": "code",
   "execution_count": 0,
   "metadata": {
    "colab": {},
    "colab_type": "code",
    "id": "9GeRaHLYKzHj"
   },
   "outputs": [],
   "source": [
    "#Default parameter value\n",
    "def greet(a, b = \"hello\"):\n",
    "  return a * \" hello \""
   ]
  },
  {
   "cell_type": "code",
   "execution_count": 24,
   "metadata": {
    "colab": {
     "base_uri": "https://localhost:8080/",
     "height": 34
    },
    "colab_type": "code",
    "id": "YUjtucnhLXGO",
    "outputId": "2e749429-2445-4a35-d3e3-23cba8df8509"
   },
   "outputs": [
    {
     "data": {
      "text/plain": [
       "' hello  hello  hello  hello  hello '"
      ]
     },
     "execution_count": 24,
     "metadata": {
      "tags": []
     },
     "output_type": "execute_result"
    }
   ],
   "source": [
    "greet(5)"
   ]
  },
  {
   "cell_type": "code",
   "execution_count": 0,
   "metadata": {
    "colab": {},
    "colab_type": "code",
    "id": "9S5PwO8GLiO1"
   },
   "outputs": [],
   "source": [
    "def greet(a = 5,b = \" hello \"):\n",
    "  return a * b"
   ]
  },
  {
   "cell_type": "code",
   "execution_count": 34,
   "metadata": {
    "colab": {
     "base_uri": "https://localhost:8080/",
     "height": 34
    },
    "colab_type": "code",
    "id": "6z8XorIKM5OK",
    "outputId": "1397a3ae-0979-481f-888f-de43c3538142"
   },
   "outputs": [
    {
     "data": {
      "text/plain": [
       "' hello  hello  hello '"
      ]
     },
     "execution_count": 34,
     "metadata": {
      "tags": []
     },
     "output_type": "execute_result"
    }
   ],
   "source": [
    "greet(3)"
   ]
  },
  {
   "cell_type": "code",
   "execution_count": 30,
   "metadata": {
    "colab": {
     "base_uri": "https://localhost:8080/",
     "height": 34
    },
    "colab_type": "code",
    "id": "QcQifsYMMBEo",
    "outputId": "42eedd19-b78a-49a0-877e-917fb8d1a0c9"
   },
   "outputs": [
    {
     "data": {
      "text/plain": [
       "'hellohello'"
      ]
     },
     "execution_count": 30,
     "metadata": {
      "tags": []
     },
     "output_type": "execute_result"
    }
   ],
   "source": [
    "greet(2) #Default parameter value"
   ]
  },
  {
   "cell_type": "code",
   "execution_count": 0,
   "metadata": {
    "colab": {},
    "colab_type": "code",
    "id": "5gZWn7pIMHa-"
   },
   "outputs": [],
   "source": [
    "#Passing a list as an argument\n",
    "def my_fun(food):\n",
    "  for x in food:\n",
    "    print(x)"
   ]
  },
  {
   "cell_type": "code",
   "execution_count": 0,
   "metadata": {
    "colab": {},
    "colab_type": "code",
    "id": "vguz4XZ7Os0Q"
   },
   "outputs": [],
   "source": [
    "fruits = [\"apple\",\"mango\",\"banana\"]"
   ]
  },
  {
   "cell_type": "code",
   "execution_count": 37,
   "metadata": {
    "colab": {
     "base_uri": "https://localhost:8080/",
     "height": 68
    },
    "colab_type": "code",
    "id": "qj6upiFDOy11",
    "outputId": "ae4624ac-893b-4df8-b0a6-4bacecf3bd11"
   },
   "outputs": [
    {
     "name": "stdout",
     "output_type": "stream",
     "text": [
      "apple\n",
      "mango\n",
      "banana\n"
     ]
    }
   ],
   "source": [
    "my_fun(fruits)"
   ]
  },
  {
   "cell_type": "code",
   "execution_count": 0,
   "metadata": {
    "colab": {},
    "colab_type": "code",
    "id": "Gf_tti48O3Mx"
   },
   "outputs": [],
   "source": [
    "ques. write a function func1() such that it can accept a variable length argument and print all argument value.\n",
    "func1(80,90)\n",
    "output:\n",
    "80\n",
    "90"
   ]
  },
  {
   "cell_type": "code",
   "execution_count": 39,
   "metadata": {
    "colab": {
     "base_uri": "https://localhost:8080/",
     "height": 34
    },
    "colab_type": "code",
    "id": "kqUL7E0fQO7F",
    "outputId": "1679f989-a25d-4275-c5c6-982ced2c11c5"
   },
   "outputs": [
    {
     "name": "stdout",
     "output_type": "stream",
     "text": [
      "55\n"
     ]
    }
   ],
   "source": [
    "#Recursive functions: \n",
    "def calculatesum(num):\n",
    "  if num:\n",
    "    return num + calculatesum(num-1)\n",
    "  else:\n",
    "    return 0\n",
    "res = calculatesum(10)\n",
    "print(res)"
   ]
  },
  {
   "cell_type": "markdown",
   "metadata": {
    "colab_type": "text",
    "id": "-uGTH8izSRkq"
   },
   "source": [
    "**lambda Functions**\n",
    "In python lambda functions is considered as anonymous function written in a single line.\n",
    "syntax : lambda arguments : expression\n",
    "1. You can pass n no of arguments but lambda function only return single value.\n",
    "2. lambda function does not allow return keyword\n",
    "3. it can be used with built in functions like filter (),map() or reduce()."
   ]
  },
  {
   "cell_type": "code",
   "execution_count": 0,
   "metadata": {
    "colab": {},
    "colab_type": "code",
    "id": "Jj2lCIp6Q6zu"
   },
   "outputs": [],
   "source": [
    "def cube(x):\n",
    "  return x * x * x"
   ]
  },
  {
   "cell_type": "code",
   "execution_count": 41,
   "metadata": {
    "colab": {
     "base_uri": "https://localhost:8080/",
     "height": 34
    },
    "colab_type": "code",
    "id": "vTokcmJDS9zD",
    "outputId": "74773075-eeed-47b5-f522-f8b8f1755464"
   },
   "outputs": [
    {
     "data": {
      "text/plain": [
       "343"
      ]
     },
     "execution_count": 41,
     "metadata": {
      "tags": []
     },
     "output_type": "execute_result"
    }
   ],
   "source": [
    "cube(7)"
   ]
  },
  {
   "cell_type": "code",
   "execution_count": 0,
   "metadata": {
    "colab": {},
    "colab_type": "code",
    "id": "y_aUms8gS_IO"
   },
   "outputs": [],
   "source": [
    "func1 = lambda x : x * x* x"
   ]
  },
  {
   "cell_type": "code",
   "execution_count": 44,
   "metadata": {
    "colab": {
     "base_uri": "https://localhost:8080/",
     "height": 34
    },
    "colab_type": "code",
    "id": "ZvCtUmB3TKjC",
    "outputId": "7663846b-9e28-4a43-dcc0-96af8e19616b"
   },
   "outputs": [
    {
     "data": {
      "text/plain": [
       "64"
      ]
     },
     "execution_count": 44,
     "metadata": {
      "tags": []
     },
     "output_type": "execute_result"
    }
   ],
   "source": [
    "func1(4)"
   ]
  },
  {
   "cell_type": "code",
   "execution_count": 0,
   "metadata": {
    "colab": {},
    "colab_type": "code",
    "id": "sU1iCtF4TLjd"
   },
   "outputs": [],
   "source": [
    "add = lambda a,b,c : a +b + c"
   ]
  },
  {
   "cell_type": "code",
   "execution_count": 46,
   "metadata": {
    "colab": {
     "base_uri": "https://localhost:8080/",
     "height": 34
    },
    "colab_type": "code",
    "id": "FigZrUthTx5A",
    "outputId": "36f40914-f256-40d6-e1ae-6cb8d43d9ab7"
   },
   "outputs": [
    {
     "data": {
      "text/plain": [
       "10"
      ]
     },
     "execution_count": 46,
     "metadata": {
      "tags": []
     },
     "output_type": "execute_result"
    }
   ],
   "source": [
    "add(2,3,5)"
   ]
  },
  {
   "cell_type": "code",
   "execution_count": 0,
   "metadata": {
    "colab": {},
    "colab_type": "code",
    "id": "2lYWdeijTztC"
   },
   "outputs": [],
   "source": [
    "# i want a even numbers from a list.\n",
    "# with lambda functions.\n",
    "lambda() with filter()\n",
    "The filter ( ) in python takes in a function and list as arguments."
   ]
  },
  {
   "cell_type": "code",
   "execution_count": 0,
   "metadata": {
    "colab": {},
    "colab_type": "code",
    "id": "uIyLLLpoUfMh"
   },
   "outputs": [],
   "source": [
    "list1 = [5,6,7,8,12,67,89,92]\n",
    "final_list = list(filter(lambda x : (x%2 != 0),list1))"
   ]
  },
  {
   "cell_type": "code",
   "execution_count": 48,
   "metadata": {
    "colab": {
     "base_uri": "https://localhost:8080/",
     "height": 34
    },
    "colab_type": "code",
    "id": "bz2dJi3rVJLZ",
    "outputId": "2b0bdb34-3fb8-45b5-f29b-91582ba87b27"
   },
   "outputs": [
    {
     "data": {
      "text/plain": [
       "[5, 7, 67, 89]"
      ]
     },
     "execution_count": 48,
     "metadata": {
      "tags": []
     },
     "output_type": "execute_result"
    }
   ],
   "source": [
    "final_list"
   ]
  },
  {
   "cell_type": "code",
   "execution_count": 0,
   "metadata": {
    "colab": {},
    "colab_type": "code",
    "id": "BmXJc6wqVLAx"
   },
   "outputs": [],
   "source": [
    "  final_list =list(filter(function ---- lambda function , iterable --- list, tuple, string ))"
   ]
  },
  {
   "cell_type": "code",
   "execution_count": 0,
   "metadata": {
    "colab": {},
    "colab_type": "code",
    "id": "GpgHSw1OV5cv"
   },
   "outputs": [],
   "source": [
    "lambda() with map()\n",
    "list --- uske saare elements ko 2 s multiply krna h.\n",
    "map(function,iterable)"
   ]
  },
  {
   "cell_type": "code",
   "execution_count": 0,
   "metadata": {
    "colab": {},
    "colab_type": "code",
    "id": "ovpuiu5SW54L"
   },
   "outputs": [],
   "source": [
    "fin_list = list(map(lambda x : x * 2,list1))"
   ]
  },
  {
   "cell_type": "code",
   "execution_count": 51,
   "metadata": {
    "colab": {
     "base_uri": "https://localhost:8080/",
     "height": 34
    },
    "colab_type": "code",
    "id": "4u3PRoAMXLrI",
    "outputId": "9e976b8c-ecdc-4390-cebf-cee3e0c42799"
   },
   "outputs": [
    {
     "data": {
      "text/plain": [
       "[10, 12, 14, 16, 24, 134, 178, 184]"
      ]
     },
     "execution_count": 51,
     "metadata": {
      "tags": []
     },
     "output_type": "execute_result"
    }
   ],
   "source": [
    "fin_list"
   ]
  },
  {
   "cell_type": "code",
   "execution_count": 0,
   "metadata": {
    "colab": {},
    "colab_type": "code",
    "id": "6CyfuByDXP6I"
   },
   "outputs": [],
   "source": [
    "li = [1,4,6,8,9] --- input list\n",
    "list2 = [1,16,36,64,81] --- output list"
   ]
  },
  {
   "cell_type": "code",
   "execution_count": 0,
   "metadata": {
    "colab": {},
    "colab_type": "code",
    "id": "_bokXFjNX18r"
   },
   "outputs": [],
   "source": [
    "li = [1,4,6,8,9]\n",
    "new_list=list(map(lambda x : x **2,li))"
   ]
  },
  {
   "cell_type": "code",
   "execution_count": 53,
   "metadata": {
    "colab": {
     "base_uri": "https://localhost:8080/",
     "height": 34
    },
    "colab_type": "code",
    "id": "lPE3a-3CYK85",
    "outputId": "12a41ea5-dfb8-4c62-8f51-41ccf4bc7482"
   },
   "outputs": [
    {
     "data": {
      "text/plain": [
       "[1, 16, 36, 64, 81]"
      ]
     },
     "execution_count": 53,
     "metadata": {
      "tags": []
     },
     "output_type": "execute_result"
    }
   ],
   "source": [
    "new_list"
   ]
  },
  {
   "cell_type": "code",
   "execution_count": 0,
   "metadata": {
    "colab": {},
    "colab_type": "code",
    "id": "HzRFafD4YMpY"
   },
   "outputs": [],
   "source": [
    "lambda with reduce()\n",
    "The reduce function in python takes in a function and iterable as an argument. this function is designed to call with lambda function.\n",
    "this performs a repetitive operation over the pairs and returns a reduced list."
   ]
  },
  {
   "cell_type": "code",
   "execution_count": 0,
   "metadata": {
    "colab": {},
    "colab_type": "code",
    "id": "PVyYQCTJY-wk"
   },
   "outputs": [],
   "source": [
    "from functools import reduce\n",
    "li = [5,67,89,45,32,67]\n",
    "sum1 = reduce((lambda x , y : x +y ), li)"
   ]
  },
  {
   "cell_type": "code",
   "execution_count": 55,
   "metadata": {
    "colab": {
     "base_uri": "https://localhost:8080/",
     "height": 34
    },
    "colab_type": "code",
    "id": "smmaWxfaZXLM",
    "outputId": "a13e8d58-cc69-4f82-e642-ae2f9b75b3b9"
   },
   "outputs": [
    {
     "data": {
      "text/plain": [
       "305"
      ]
     },
     "execution_count": 55,
     "metadata": {
      "tags": []
     },
     "output_type": "execute_result"
    }
   ],
   "source": [
    "sum1"
   ]
  },
  {
   "cell_type": "code",
   "execution_count": 0,
   "metadata": {
    "colab": {},
    "colab_type": "code",
    "id": "VfLGBHK8ZYa9"
   },
   "outputs": [],
   "source": [
    ""
   ]
  }
 ],
 "metadata": {
  "colab": {
   "authorship_tag": "ABX9TyPz/oKlnMWEF4kMacyb2IKQ",
   "include_colab_link": true,
   "name": "Functions.ipynb",
   "provenance": []
  },
  "kernelspec": {
   "display_name": "Python 3",
   "name": "python3"
  }
 },
 "nbformat": 4,
 "nbformat_minor": 0
}
